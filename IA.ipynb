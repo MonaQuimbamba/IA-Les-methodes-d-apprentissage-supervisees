{
 "cells": [
  {
   "cell_type": "markdown",
   "id": "4cb8dee3",
   "metadata": {},
   "source": [
    "## IA Les méthodes d'apprentissage supervisees"
   ]
  },
  {
   "cell_type": "code",
   "execution_count": 1,
   "id": "3898bb71",
   "metadata": {},
   "outputs": [],
   "source": [
    "import numpy as np\n",
    "import matplotlib.pyplot as plt\n",
    "import random\n",
    "import os"
   ]
  },
  {
   "cell_type": "markdown",
   "id": "bf039cd0",
   "metadata": {},
   "source": [
    "### L'algorithme KppV\n",
    "\n",
    "Ce programme applique la méthode de discrimination de kppv sur un ensemble d'individu élément de R^2.\n",
    "\n",
    "\n",
    "\n",
    "#### Les paramètres :\n",
    "\n",
    "- La variable test :  \n",
    "    Un tableau qui doit contenir les différents individus à classer rangés par colonne. Le nombre de ligne est 2 et le nombre de colonne est n.\n",
    "    \n",
    "\n",
    "- La variable apprentissage : \n",
    "    Un tableau qui doit contenir les différents individus de l'ensemble d'apprentissage rangés par colonne. Le nombre de ligne est 2 et le nombre de colonne est m.\n",
    "    \n",
    "    \n",
    "    \n",
    "- La variable oracle :\n",
    "     Vecteur qui indique la classification de l'ensemble d'apprentissage oracle[i] indique le nombre de la classe de l'individu apprentissage[:i].\n",
    "     \n",
    "     \n",
    "- La variable K :\n",
    "   Indique le nombre de voisins utilisés dans l'algorithme.\n",
    "   \n",
    "#### Le résultat :\n",
    "\n",
    "- La variable clas :\n",
    "    Vecteur qui indique le résultat de l'algorithme de la discrimination clas[i] indique le numéro de la classe de l'individu x[:,i] \n",
    "   \n",
    " \n",
    "   \n",
    "   "
   ]
  },
  {
   "cell_type": "markdown",
   "id": "be351040",
   "metadata": {},
   "source": [
    "### L'exemple de l'execution de l'algorithme\n",
    "\n",
    "test = [ [3,2],[4,7],[8,9] ]\n",
    "\n",
    "learn =[\n",
    "     [ 0  2]\n",
    "     [ 2  0]\n",
    "     [ 2  6]\n",
    "     [ 4  4]\n",
    "     [ 2  4]\n",
    "     [ 6  7]\n",
    "     [10  4]\n",
    "     [ 4  0]\n",
    "     [ 4  2]\n",
    "     [ 6  0]\n",
    "     [ 6  2]\n",
    "    ]\n",
    "    \n",
    "oracle= [0,0,1,1,0,1,0,0,0,1,1]\n",
    "\n",
    "k=3\n",
    "\n",
    "### on calcul distance-euclideanchaque l'élement de test avec l'ensemble des élements learn \n",
    "\n",
    "### Etape 1 :\n",
    "\n",
    "#### 1 - calcul test[0]= [3,2]\n",
    "    distance-euclidean [3 2]  et  [0 2]  est  3.0\n",
    "    distance-euclidean [3 2]  et  [2 0]  est  2.23606797749979\n",
    "    distance-euclidean [3 2]  et  [2 6]  est  4.123105625617661\n",
    "    distance-euclidean [3 2]  et  [4 4]  est  2.23606797749979\n",
    "    distance-euclidean [3 2]  et  [2 4]  est  2.23606797749979\n",
    "    distance-euclidean [3 2]  et  [6 7]  est  5.830951894845301\n",
    "    distance-euclidean [3 2]  et  [10  4]  est  7.280109889280518\n",
    "    distance-euclidean [3 2]  et  [4 0]  est  2.23606797749979\n",
    "    distance-euclidean [3 2]  et  [4 2]  est  1.0\n",
    "    distance-euclidean [3 2]  et  [6 0]  est  3.605551275463989\n",
    "    distance-euclidean [3 2]  et  [6 2]  est  3.0\n",
    "\n",
    "#### 2 - calcul test[1]= [4,7]\n",
    "\n",
    "    distance-euclidean [4 7]  et  [0 2]  est  6.4031242374328485\n",
    "    distance-euclidean [4 7]  et  [2 0]  est  7.280109889280518\n",
    "    distance-euclidean [4 7]  et  [2 6]  est  2.23606797749979\n",
    "    distance-euclidean [4 7]  et  [4 4]  est  3.0\n",
    "    distance-euclidean [4 7]  et  [2 4]  est  3.605551275463989\n",
    "    distance-euclidean [4 7]  et  [6 7]  est  2.0\n",
    "    distance-euclidean [4 7]  et  [10  4]  est  6.708203932499369\n",
    "    distance-euclidean [4 7]  et  [4 0]  est  7.0\n",
    "    distance-euclidean [4 7]  et  [4 2]  est  5.0\n",
    "    distance-euclidean [4 7]  et  [6 0]  est  7.280109889280518\n",
    "    distance-euclidean [4 7]  et  [6 2]  est  5.385164807134504\n",
    "\n",
    "#### 1 - calcul test[2]= [8,9]\n",
    "\n",
    "    distance-euclidean [8 9]  et  [0 2]  est  10.63014581273465\n",
    "    distance-euclidean [8 9]  et  [2 0]  est  10.816653826391969\n",
    "    distance-euclidean [8 9]  et  [2 6]  est  6.708203932499369\n",
    "    distance-euclidean [8 9]  et  [4 4]  est  6.4031242374328485\n",
    "    distance-euclidean [8 9]  et  [2 4]  est  7.810249675906654\n",
    "    distance-euclidean [8 9]  et  [6 7]  est  2.8284271247461903\n",
    "    distance-euclidean [8 9]  et  [10  4]  est  5.385164807134504\n",
    "    distance-euclidean [8 9]  et  [4 0]  est  9.848857801796104\n",
    "    distance-euclidean [8 9]  et  [4 2]  est  8.06225774829855\n",
    "    distance-euclidean [8 9]  et  [6 0]  est  9.219544457292887\n",
    "    distance-euclidean [8 9]  et  [6 2]  est  7.280109889280518\n",
    "    \n",
    "### Etape 2 :\n",
    "#### On regarde les k distance minimales \n",
    "\n",
    "- pour test[0]=[3,2] sont :\n",
    "\n",
    "        *    1.O  avec [4 2] indice dans learn 8 \n",
    "        *    2.23 avec [2 0] indice dans learn 1\n",
    "        *    2.23 avec [4 4] indice dans learn 3\n",
    "        \n",
    "- pour test[1]=[4,7] sont :\n",
    "        \n",
    "  \n",
    "         * 2    avec  [6 7] indice dans learn 5\n",
    "         * 2.23 avec  [2 6] indice dans learn 2\n",
    "         * 3    avec  [4 4] indice dans learn 3\n",
    "         \n",
    "- pour test[2]=[8 9] sont :\n",
    "    \n",
    "        * 2.83 avec [6 7] indice dans learn  5\n",
    "        * 5.38 avec [10 4] indice dans learn 6\n",
    "        * 6.4 avec  [4 4] indice dans learn  3\n",
    "        \n",
    "### Etape 3 :\n",
    "#### On regarder les classes/groupe dans des k distances minimales dans oracle \n",
    "\n",
    "- pour ***test[0]=[3,2]***   \n",
    "    \n",
    "    * oracle[8] = 0\n",
    "    * oracle[1] = 0\n",
    "    * oracle[3] = 1\n",
    "    \n",
    "    \n",
    "\n",
    "- pour ***test[1]=[4,7]***  \n",
    "    \n",
    "    * oracle[5]= 1\n",
    "    * oracle[2]= 1\n",
    "    * oracle[3]= 1\n",
    "\n",
    "\n",
    "\n",
    "\n",
    "- pour ****test[2]=[8,9]***  \n",
    "\n",
    "    * oracle[5] = 1\n",
    "    * oracle[6] = 0\n",
    "    * oracle[3] = 1\n",
    "    \n",
    "### Etape 4 :\n",
    "#### on vote , on regarde parmis les classes/groupes ce qui sont les plus nombreux \n",
    "\n",
    "\n",
    "- pour ***test[0]=[3,2]*** on voit qu'il est de la classe 0 \n",
    "\n",
    "\n",
    "\n",
    "- pour ***test[1]=[4,7]*** on voit qu'il est de la classe 1\n",
    "\n",
    "\n",
    "\n",
    "- pour ***test[2]=[8,9]*** on voit qu'il est de la classe 1\n",
    "\n",
    "\n",
    "\n",
    "    "
   ]
  },
  {
   "cell_type": "markdown",
   "id": "2797c0c3",
   "metadata": {},
   "source": [
    "## L'implementation de l'algorithme KNNV en python "
   ]
  },
  {
   "cell_type": "code",
   "execution_count": 2,
   "id": "46eafa54",
   "metadata": {},
   "outputs": [],
   "source": [
    "def dist(x,y,dname='euclidean'):\n",
    "    \n",
    "    if (dname == 'manhattan') or (dname == 'cityblock'):\n",
    "        d = np.sum(np.abs(x-y))\n",
    "    elif dname == 'euclidean':\n",
    "        d = np.sqrt(np.sum(np.abs(x-y)**2))\n",
    "    elif (dname == 'chebychev') or (dname == 'chebyshev'):\n",
    "        d = np.max(np.abs(x-y))\n",
    "    elif dname == 'cosine':\n",
    "        d = 1 - x.dot(y) / np.sqrt(x.dot(x)*y.dot(y))\n",
    "    else:\n",
    "        d = np.sqrt(np.sum(np.abs(x-y)**2))       \n",
    "    return d"
   ]
  },
  {
   "cell_type": "code",
   "execution_count": 9,
   "id": "f9fa04a9",
   "metadata": {},
   "outputs": [],
   "source": [
    "def KNNV(test, learn, ylearn, K=1, dname='euclidean'):\n",
    "    test_nb = test.shape[0]\n",
    "    learn_nb = learn.shape[0]\n",
    "    labels_id = np.unique(ylearn)\n",
    "    labels_nb = len(labels_id)\n",
    "    dist_to_learn = np.zeros((test_nb, learn_nb))\n",
    "    votes = np.zeros((test_nb,labels_nb)) \n",
    "    for i in range(test_nb):\n",
    "        for j in range(learn_nb):\n",
    "            dist_to_learn[i,j] = dist(test[i,:],learn[j,:],dname)  # Etape 1 \n",
    "        KNN_index = np.argsort(dist_to_learn[i,:])[:K]             # Etape 2  argSort envoit les indices K des element d'un tableau \n",
    "        KNN_y = ylearn[[KNN_index]]                                # Etape 3 \n",
    "        for j in range(labels_nb):\n",
    "            votes[i,j] = len(np.argwhere(KNN_y==labels_id[j]))     # Etape 4 argWhere Trouvez les indices des éléments du tableau non nuls, regroupés par élément.\n",
    "    ypred = np.argmax(votes,axis=1) # Returns the indices of the maximum values along an axis.\n",
    "    return ypred\n"
   ]
  },
  {
   "cell_type": "code",
   "execution_count": 10,
   "id": "5c36297b",
   "metadata": {},
   "outputs": [],
   "source": [
    "def affiche_classeKKpV(x,clas,K):\n",
    "    for k in range(0,K):\n",
    "        ind=(clas==k)\n",
    "        plt.plot(x[0,ind],x[1,ind],\"o\")\n",
    "    plt.show()"
   ]
  },
  {
   "cell_type": "markdown",
   "id": "767e6b09",
   "metadata": {},
   "source": [
    "## Jeu d'essaie KNNV"
   ]
  },
  {
   "cell_type": "code",
   "execution_count": 11,
   "id": "43dc2c82",
   "metadata": {},
   "outputs": [
    {
     "name": "stderr",
     "output_type": "stream",
     "text": [
      "/tmp/ipykernel_7654/1860237411.py:12: FutureWarning: Using a non-tuple sequence for multidimensional indexing is deprecated; use `arr[tuple(seq)]` instead of `arr[seq]`. In the future this will be interpreted as an array index, `arr[np.array(seq)]`, which will result either in an error or a different result.\n",
      "  KNN_y = ylearn[[KNN_index]]                                # Etape 3\n"
     ]
    },
    {
     "data": {
      "image/png": "[encoded data removed]",
      "text/plain": [
       "<Figure size 432x288 with 1 Axes>"
      ]
     },
     "metadata": {
      "needs_background": "light"
     },
     "output_type": "display_data"
    }
   ],
   "source": [
    "# Données de test\n",
    "mean1 = [4, 4]\n",
    "cov1 = [[1, 0], [0, 1]]  \n",
    "\n",
    "data1 = np.transpose(np.random.multivariate_normal(mean1, cov1, 128))\n",
    "\n",
    "mean2 = [-4, -4]\n",
    "cov2 = [[4, 0], [0, 4]]  \n",
    "\n",
    "data2 = np.transpose(np.random.multivariate_normal(mean2, cov2, 128))\n",
    "data=np.concatenate((data1, data2), axis=1)\n",
    "\n",
    "oracle=np.concatenate((np.zeros(128),np.ones(128)))\n",
    "\n",
    "test1=np.transpose(np.random.multivariate_normal(mean1, cov1, 64))\n",
    "test2=np.transpose(np.random.multivariate_normal(mean2, cov2,64))\n",
    "\n",
    "test=np.concatenate((test1,test2), axis=1)\n",
    "K=3\n",
    "clas=KNNV(test.T,data.T,oracle,K)\n",
    "affiche_classeKKpV(test,clas,2)"
   ]
  },
  {
   "cell_type": "markdown",
   "id": "b2b3f55d",
   "metadata": {},
   "source": [
    "## Le Perceptron"
   ]
  },
  {
   "cell_type": "markdown",
   "id": "64e0b2b3",
   "metadata": {},
   "source": [
    "Ce programme doit évaluer la sortie d'un perceptron simple ( 1 neurone ) pour une entrée élément de R^2.\n",
    "\n",
    "### Les Paramètres :\n",
    "\n",
    "    - La variable w contient les poids synaptiques du  neurones. C'est un vecteur à 3 lignes. La première ligne correspond au seuil.\n",
    "    - La variable x contient l'éntrée du réseau de neurones. C'est un vecteur à 2 lignes.\n",
    "    - La variable active indique la fonction d'activation utilisée. \n",
    "    \n",
    "    * Si active == 0 :\n",
    "      σ(x) = sign(x)\n",
    "    * Si active == 1 :\n",
    "      σ(x) = tanh(x)\n",
    "      \n",
    "### Le Résultat :\n",
    "\n",
    "    - La variable y est un scalaire correspondant à la sortie du neurone\n",
    "    "
   ]
  },
  {
   "cell_type": "markdown",
   "id": "8a6469c3",
   "metadata": {},
   "source": [
    "## L'implementation de l'algorithme le Perceptron en python "
   ]
  },
  {
   "cell_type": "code",
   "execution_count": null,
   "id": "286b6268",
   "metadata": {},
   "outputs": [],
   "source": []
  }
 ],
 "metadata": {
  "kernelspec": {
   "display_name": "Python 3",
   "language": "python",
   "name": "python3"
  },
  "language_info": {
   "codemirror_mode": {
    "name": "ipython",
    "version": 3
   },
   "file_extension": ".py",
   "mimetype": "text/x-python",
   "name": "python",
   "nbconvert_exporter": "python",
   "pygments_lexer": "ipython3",
   "version": "3.9.7"
  }
 },
 "nbformat": 4,
 "nbformat_minor": 5
}
